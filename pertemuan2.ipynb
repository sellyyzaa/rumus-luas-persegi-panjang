{
  "nbformat": 4,
  "nbformat_minor": 0,
  "metadata": {
    "colab": {
      "provenance": [],
      "authorship_tag": "ABX9TyPYlnr/XTqMQvnozFBJB60Y",
      "include_colab_link": true
    },
    "kernelspec": {
      "name": "python3",
      "display_name": "Python 3"
    },
    "language_info": {
      "name": "python"
    }
  },
  "cells": [
    {
      "cell_type": "markdown",
      "metadata": {
        "id": "view-in-github",
        "colab_type": "text"
      },
      "source": [
        "<a href=\"https://colab.research.google.com/github/sellyyzaa/rumus-luas-persegi-panjang/blob/main/pertemuan2.ipynb\" target=\"_parent\"><img src=\"https://colab.research.google.com/assets/colab-badge.svg\" alt=\"Open In Colab\"/></a>"
      ]
    },
    {
      "cell_type": "code",
      "execution_count": 1,
      "metadata": {
        "colab": {
          "base_uri": "https://localhost:8080/"
        },
        "id": "lEfQYVXTWAE7",
        "outputId": "cf991081-2e95-4754-b4a9-0580f3cb0485"
      },
      "outputs": [
        {
          "output_type": "stream",
          "name": "stdout",
          "text": [
            "['Azra', 'Ellyza', 'Rafa', 'Selia', 'Yudha']\n"
          ]
        }
      ],
      "source": [
        "nama_acak = [\"Selia\", \"Ellyza\", \"Rafa\", \"Azra\", \"Yudha\"]\n",
        "nama_acak.sort()\n",
        "print(nama_acak)"
      ]
    },
    {
      "cell_type": "markdown",
      "source": [
        "kelompok 4"
      ],
      "metadata": {
        "id": "bwvYHrmKWCRm"
      }
    }
  ]
}